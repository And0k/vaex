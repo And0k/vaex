{
 "cells": [
  {
   "cell_type": "markdown",
   "metadata": {},
   "source": [
    "\n",
    "<div class=\"alert alert-info\">\n",
    "\n",
    "**Warning:** This notebook needs a running kernel to be fully interactive, please run it locally or run it on  [mybinder](https://mybinder.org/v2/gh/vaexio/vaex/master?filepath=docs%2Fsource%2Ftutorial_jupyter.ipynb).\n",
    "\n",
    "</div>\n",
    "\n",
    "[![Binder](https://mybinder.org/badge_logo.svg)](https://mybinder.org/v2/gh/vaexio/vaex/latest?filepath=docs%2Fsource%2Ftutorial_jupyter.ipynb)\n"
   ]
  },
  {
   "cell_type": "markdown",
   "metadata": {},
   "source": [
    "# Jupyter integration: interactivity\n",
    "\n",
    "Vaex can process about 1 billion rows per second, in combination with the Jupyter notebook, this allows for interactive exporations of large datasets.\n",
    "\n",
    "## Introduction\n",
    "The `vaex-jupyter` package contains the building blocks to interactively define an N-dimensional grid, which is then used for visualizations.\n",
    "\n",
    "We start by defining the building blocks (`vaex.jupyter.model.Axis`, `vaex.jupyter.model.DataArray` and `vaex.jupyter.view.DataArray`) to define and visualize our N-dimensional grid.\n",
    "\n",
    "Let us first import the relevant packages, and open the example dataframe:"
   ]
  },
  {
   "cell_type": "code",
   "execution_count": 1,
   "metadata": {
    "ExecuteTime": {
     "end_time": "2020-05-06T12:31:20.743833Z",
     "start_time": "2020-05-06T12:31:17.300204Z"
    }
   },
   "outputs": [],
   "source": [
    "import vaex\n",
    "import numpy as np\n",
    "import vaex.jupyter.model as vjm\n",
    "import matplotlib.pyplot as plt\n",
    "df = vaex.example()"
   ]
  },
  {
   "cell_type": "markdown",
   "metadata": {},
   "source": [
    "We want to build a 2d grid with the number counts in each bin. To do this, we first define two axis objects:"
   ]
  },
  {
   "cell_type": "code",
   "execution_count": 2,
   "metadata": {
    "ExecuteTime": {
     "end_time": "2020-05-06T12:31:20.759523Z",
     "start_time": "2020-05-06T12:31:20.745913Z"
    }
   },
   "outputs": [
    {
     "data": {
      "text/plain": [
       "Axis(_debug=False, _status_change_delay=0.0, calculation=None, centers=None, exception=None, expression=Lz, max=None, min=None, shape=100, shape_default=64, slice=None, status=Status.NO_LIMITS)"
      ]
     },
     "execution_count": 2,
     "metadata": {},
     "output_type": "execute_result"
    }
   ],
   "source": [
    "Lz_axis = vjm.Axis(df=df, expression=df.Lz, shape=100)\n",
    "E_axis = vjm.Axis(df=df, expression=df.E, shape=140)\n",
    "Lz_axis"
   ]
  },
  {
   "cell_type": "code",
   "execution_count": 3,
   "metadata": {
    "ExecuteTime": {
     "end_time": "2020-05-06T12:31:21.164263Z",
     "start_time": "2020-05-06T12:31:20.774753Z"
    }
   },
   "outputs": [
    {
     "data": {
      "text/plain": [
       "Axis(_debug=False, _status_change_delay=0.0, calculation=None, centers=[-2877.11808899 -2830.27174744 -2783.42540588 -2736.57906433\n",
       " -2689.73272278 -2642.88638123 -2596.04003967 -2549.19369812\n",
       " -2502.34735657 -2455.50101501 -2408.65467346 -2361.80833191\n",
       " -2314.96199036 -2268.1156488  -2221.26930725 -2174.4229657\n",
       " -2127.57662415 -2080.73028259 -2033.88394104 -1987.03759949\n",
       " -1940.19125793 -1893.34491638 -1846.49857483 -1799.65223328\n",
       " -1752.80589172 -1705.95955017 -1659.11320862 -1612.26686707\n",
       " -1565.42052551 -1518.57418396 -1471.72784241 -1424.88150085\n",
       " -1378.0351593  -1331.18881775 -1284.3424762  -1237.49613464\n",
       " -1190.64979309 -1143.80345154 -1096.95710999 -1050.11076843\n",
       " -1003.26442688  -956.41808533  -909.57174377  -862.72540222\n",
       "  -815.87906067  -769.03271912  -722.18637756  -675.34003601\n",
       "  -628.49369446  -581.64735291  -534.80101135  -487.9546698\n",
       "  -441.10832825  -394.26198669  -347.41564514  -300.56930359\n",
       "  -253.72296204  -206.87662048  -160.03027893  -113.18393738\n",
       "   -66.33759583   -19.49125427    27.35508728    74.20142883\n",
       "   121.04777039   167.89411194   214.74045349   261.58679504\n",
       "   308.4331366    355.27947815   402.1258197    448.97216125\n",
       "   495.81850281   542.66484436   589.51118591   636.35752747\n",
       "   683.20386902   730.05021057   776.89655212   823.74289368\n",
       "   870.58923523   917.43557678   964.28191833  1011.12825989\n",
       "  1057.97460144  1104.82094299  1151.66728455  1198.5136261\n",
       "  1245.35996765  1292.2063092   1339.05265076  1385.89899231\n",
       "  1432.74533386  1479.59167542  1526.43801697  1573.28435852\n",
       "  1620.13070007  1666.97704163  1713.82338318  1760.66972473], exception=None, expression=Lz, max=1784.0928955078125, min=-2900.541259765625, shape=100, shape_default=64, slice=None, status=Status.READY)"
      ]
     },
     "execution_count": 3,
     "metadata": {},
     "output_type": "execute_result"
    }
   ],
   "source": [
    "await vaex.jupyter.gather()\n",
    "Lz_axis"
   ]
  },
  {
   "cell_type": "markdown",
   "metadata": {},
   "source": [
    "We inspect the `Lz_axis` object, and see that is min and max are None, as well at its centers. We can force the computation by calling [calculate_limits](api.html#???). Note that this is for demonstration purposes only, and usually computed automatically by `vaex-jupyter`."
   ]
  },
  {
   "cell_type": "markdown",
   "metadata": {},
   "source": [
    "Note that the Axis object is a [traitlets HasTrait object](https://traitlets.readthedocs.io), similar to all ipywidgets object, meaning we can link all its properties to ipywidget, to create interactivity. We can also use [observe]()https://traitlets.readthedocs.io/en/stable/using_traitlets.html#observe) to listen to any changes to our model."
   ]
  },
  {
   "cell_type": "markdown",
   "metadata": {},
   "source": [
    "## An interactive xarray DataArray display\n",
    "\n",
    "Now that we have defined our two axes, we use the [widget accessor](api.html#vaex.jupyter.DataFrameAccessorWidget) to create a [vaex.jupyter.model.DataArray](api.html#vaex.jupyter.model.DataArray) together with a a  [vaex.jupyter.view.DataArray](api.html#vaex.jupyter.view.DataArray), and link that model and view. The view, which is an ipywidget, will be returned, and can be visualized in the Jupyter notebook."
   ]
  },
  {
   "cell_type": "code",
   "execution_count": 4,
   "metadata": {
    "ExecuteTime": {
     "end_time": "2020-05-06T12:31:21.365048Z",
     "start_time": "2020-05-06T12:31:21.166259Z"
    }
   },
   "outputs": [
    {
     "data": {
      "application/vnd.jupyter.widget-view+json": {
       "model_id": "0a02c0217f064244b15e1838f22b4cf3",
       "version_major": 2,
       "version_minor": 0
      },
      "text/plain": [
       "DataArray(children=[Container(children=[ProgressCircularNoAnimation(color='#9ECBF5', size=30, text='', value=1…"
      ]
     },
     "metadata": {},
     "output_type": "display_data"
    }
   ],
   "source": [
    "da_view = df.widget.data_array(axes=[Lz_axis, E_axis])\n",
    "da_view"
   ]
  },
  {
   "cell_type": "markdown",
   "metadata": {},
   "source": [
    "From the specification of the axis (and the selection) vaex computes a 3d histogram (the first dimension being the selections). Interally this is simply a numpy array, but we wrap it in an [xarray](http://xarray.pydata.org/)  [DataArray](http://xarray.pydata.org/en/stable/data-structures.html#dataarray) object. An xarray DataArray object can be seen as a labeled Nd array, simply a numpy array with extra metadata to make it fully self describing.\n",
    "\n",
    "The most important properties are printed out below:"
   ]
  },
  {
   "cell_type": "code",
   "execution_count": 5,
   "metadata": {
    "ExecuteTime": {
     "end_time": "2020-05-06T12:31:22.079099Z",
     "start_time": "2020-05-06T12:31:21.367373Z"
    }
   },
   "outputs": [
    {
     "name": "stdout",
     "output_type": "stream",
     "text": [
      "[<Future pending>]\n",
      "[]\n",
      "type: <class 'xarray.core.dataarray.DataArray'>\n",
      "dims: ('selection', 'Lz', 'E')\n",
      "data: [[[0 0 0 ... 0 0 0]\n",
      "  [0 0 0 ... 0 0 0]\n",
      "  [0 0 0 ... 0 0 0]\n",
      "  ...\n",
      "  [0 0 0 ... 0 0 0]\n",
      "  [0 0 0 ... 0 0 0]\n",
      "  [0 0 0 ... 0 0 0]]]\n",
      "coords: Coordinates:\n",
      "  * selection  (selection) object None\n",
      "  * Lz         (Lz) float64 -2.877e+03 -2.83e+03 ... 1.714e+03 1.761e+03\n",
      "  * E          (E) float64 -2.414e+05 -2.394e+05 ... 3.296e+04 3.495e+04\n",
      "Lz's data: [-2877.11808899 -2830.27174744 -2783.42540588 -2736.57906433\n",
      " -2689.73272278 -2642.88638123 -2596.04003967 -2549.19369812\n",
      " -2502.34735657 -2455.50101501 -2408.65467346 -2361.80833191\n",
      " -2314.96199036 -2268.1156488  -2221.26930725 -2174.4229657\n",
      " -2127.57662415 -2080.73028259 -2033.88394104 -1987.03759949\n",
      " -1940.19125793 -1893.34491638 -1846.49857483 -1799.65223328\n",
      " -1752.80589172 -1705.95955017 -1659.11320862 -1612.26686707\n",
      " -1565.42052551 -1518.57418396 -1471.72784241 -1424.88150085\n",
      " -1378.0351593  -1331.18881775 -1284.3424762  -1237.49613464\n",
      " -1190.64979309 -1143.80345154 -1096.95710999 -1050.11076843\n",
      " -1003.26442688  -956.41808533  -909.57174377  -862.72540222\n",
      "  -815.87906067  -769.03271912  -722.18637756  -675.34003601\n",
      "  -628.49369446  -581.64735291  -534.80101135  -487.9546698\n",
      "  -441.10832825  -394.26198669  -347.41564514  -300.56930359\n",
      "  -253.72296204  -206.87662048  -160.03027893  -113.18393738\n",
      "   -66.33759583   -19.49125427    27.35508728    74.20142883\n",
      "   121.04777039   167.89411194   214.74045349   261.58679504\n",
      "   308.4331366    355.27947815   402.1258197    448.97216125\n",
      "   495.81850281   542.66484436   589.51118591   636.35752747\n",
      "   683.20386902   730.05021057   776.89655212   823.74289368\n",
      "   870.58923523   917.43557678   964.28191833  1011.12825989\n",
      "  1057.97460144  1104.82094299  1151.66728455  1198.5136261\n",
      "  1245.35996765  1292.2063092   1339.05265076  1385.89899231\n",
      "  1432.74533386  1479.59167542  1526.43801697  1573.28435852\n",
      "  1620.13070007  1666.97704163  1713.82338318  1760.66972473]\n",
      "Lz's attrs: {'min': -2900.541259765625, 'max': 1784.0928955078125}\n",
      "And displaying the xarray DataArray:\n"
     ]
    },
    {
     "data": {
      "text/html": [
       "<div><svg style=\"position: absolute; width: 0; height: 0; overflow: hidden\">\n",
       "<defs>\n",
       "<symbol id=\"icon-database\" viewBox=\"0 0 32 32\">\n",
       "<title>Show/Hide data repr</title>\n",
       "<path d=\"M16 0c-8.837 0-16 2.239-16 5v4c0 2.761 7.163 5 16 5s16-2.239 16-5v-4c0-2.761-7.163-5-16-5z\"></path>\n",
       "<path d=\"M16 17c-8.837 0-16-2.239-16-5v6c0 2.761 7.163 5 16 5s16-2.239 16-5v-6c0 2.761-7.163 5-16 5z\"></path>\n",
       "<path d=\"M16 26c-8.837 0-16-2.239-16-5v6c0 2.761 7.163 5 16 5s16-2.239 16-5v-6c0 2.761-7.163 5-16 5z\"></path>\n",
       "</symbol>\n",
       "<symbol id=\"icon-file-text2\" viewBox=\"0 0 32 32\">\n",
       "<title>Show/Hide attributes</title>\n",
       "<path d=\"M28.681 7.159c-0.694-0.947-1.662-2.053-2.724-3.116s-2.169-2.030-3.116-2.724c-1.612-1.182-2.393-1.319-2.841-1.319h-15.5c-1.378 0-2.5 1.121-2.5 2.5v27c0 1.378 1.122 2.5 2.5 2.5h23c1.378 0 2.5-1.122 2.5-2.5v-19.5c0-0.448-0.137-1.23-1.319-2.841zM24.543 5.457c0.959 0.959 1.712 1.825 2.268 2.543h-4.811v-4.811c0.718 0.556 1.584 1.309 2.543 2.268zM28 29.5c0 0.271-0.229 0.5-0.5 0.5h-23c-0.271 0-0.5-0.229-0.5-0.5v-27c0-0.271 0.229-0.5 0.5-0.5 0 0 15.499-0 15.5 0v7c0 0.552 0.448 1 1 1h7v19.5z\"></path>\n",
       "<path d=\"M23 26h-14c-0.552 0-1-0.448-1-1s0.448-1 1-1h14c0.552 0 1 0.448 1 1s-0.448 1-1 1z\"></path>\n",
       "<path d=\"M23 22h-14c-0.552 0-1-0.448-1-1s0.448-1 1-1h14c0.552 0 1 0.448 1 1s-0.448 1-1 1z\"></path>\n",
       "<path d=\"M23 18h-14c-0.552 0-1-0.448-1-1s0.448-1 1-1h14c0.552 0 1 0.448 1 1s-0.448 1-1 1z\"></path>\n",
       "</symbol>\n",
       "</defs>\n",
       "</svg>\n",
       "<style>/* CSS stylesheet for displaying xarray objects in jupyterlab.\n",
       " *\n",
       " */\n",
       "\n",
       ":root {\n",
       "  --xr-font-color0: var(--jp-content-font-color0, rgba(0, 0, 0, 1));\n",
       "  --xr-font-color2: var(--jp-content-font-color2, rgba(0, 0, 0, 0.54));\n",
       "  --xr-font-color3: var(--jp-content-font-color3, rgba(0, 0, 0, 0.38));\n",
       "  --xr-border-color: var(--jp-border-color2, #e0e0e0);\n",
       "  --xr-disabled-color: var(--jp-layout-color3, #bdbdbd);\n",
       "  --xr-background-color: var(--jp-layout-color0, white);\n",
       "  --xr-background-color-row-even: var(--jp-layout-color1, white);\n",
       "  --xr-background-color-row-odd: var(--jp-layout-color2, #eeeeee);\n",
       "}\n",
       "\n",
       ".xr-wrap {\n",
       "  min-width: 300px;\n",
       "  max-width: 700px;\n",
       "}\n",
       "\n",
       ".xr-header {\n",
       "  padding-top: 6px;\n",
       "  padding-bottom: 6px;\n",
       "  margin-bottom: 4px;\n",
       "  border-bottom: solid 1px var(--xr-border-color);\n",
       "}\n",
       "\n",
       ".xr-header > div,\n",
       ".xr-header > ul {\n",
       "  display: inline;\n",
       "  margin-top: 0;\n",
       "  margin-bottom: 0;\n",
       "}\n",
       "\n",
       ".xr-obj-type,\n",
       ".xr-array-name {\n",
       "  margin-left: 2px;\n",
       "  margin-right: 10px;\n",
       "}\n",
       "\n",
       ".xr-obj-type {\n",
       "  color: var(--xr-font-color2);\n",
       "}\n",
       "\n",
       ".xr-sections {\n",
       "  padding-left: 0 !important;\n",
       "  display: grid;\n",
       "  grid-template-columns: 150px auto auto 1fr 20px 20px;\n",
       "}\n",
       "\n",
       ".xr-section-item {\n",
       "  display: contents;\n",
       "}\n",
       "\n",
       ".xr-section-item input {\n",
       "  display: none;\n",
       "}\n",
       "\n",
       ".xr-section-item input + label {\n",
       "  color: var(--xr-disabled-color);\n",
       "}\n",
       "\n",
       ".xr-section-item input:enabled + label {\n",
       "  cursor: pointer;\n",
       "  color: var(--xr-font-color2);\n",
       "}\n",
       "\n",
       ".xr-section-item input:enabled + label:hover {\n",
       "  color: var(--xr-font-color0);\n",
       "}\n",
       "\n",
       ".xr-section-summary {\n",
       "  grid-column: 1;\n",
       "  color: var(--xr-font-color2);\n",
       "  font-weight: 500;\n",
       "}\n",
       "\n",
       ".xr-section-summary > span {\n",
       "  display: inline-block;\n",
       "  padding-left: 0.5em;\n",
       "}\n",
       "\n",
       ".xr-section-summary-in:disabled + label {\n",
       "  color: var(--xr-font-color2);\n",
       "}\n",
       "\n",
       ".xr-section-summary-in + label:before {\n",
       "  display: inline-block;\n",
       "  content: '►';\n",
       "  font-size: 11px;\n",
       "  width: 15px;\n",
       "  text-align: center;\n",
       "}\n",
       "\n",
       ".xr-section-summary-in:disabled + label:before {\n",
       "  color: var(--xr-disabled-color);\n",
       "}\n",
       "\n",
       ".xr-section-summary-in:checked + label:before {\n",
       "  content: '▼';\n",
       "}\n",
       "\n",
       ".xr-section-summary-in:checked + label > span {\n",
       "  display: none;\n",
       "}\n",
       "\n",
       ".xr-section-summary,\n",
       ".xr-section-inline-details {\n",
       "  padding-top: 4px;\n",
       "  padding-bottom: 4px;\n",
       "}\n",
       "\n",
       ".xr-section-inline-details {\n",
       "  grid-column: 2 / -1;\n",
       "}\n",
       "\n",
       ".xr-section-details {\n",
       "  display: none;\n",
       "  grid-column: 1 / -1;\n",
       "  margin-bottom: 5px;\n",
       "}\n",
       "\n",
       ".xr-section-summary-in:checked ~ .xr-section-details {\n",
       "  display: contents;\n",
       "}\n",
       "\n",
       ".xr-array-wrap {\n",
       "  grid-column: 1 / -1;\n",
       "  display: grid;\n",
       "  grid-template-columns: 20px auto;\n",
       "}\n",
       "\n",
       ".xr-array-wrap > label {\n",
       "  grid-column: 1;\n",
       "  vertical-align: top;\n",
       "}\n",
       "\n",
       ".xr-preview {\n",
       "  color: var(--xr-font-color3);\n",
       "}\n",
       "\n",
       ".xr-array-preview,\n",
       ".xr-array-data {\n",
       "  padding: 0 5px !important;\n",
       "  grid-column: 2;\n",
       "}\n",
       "\n",
       ".xr-array-data,\n",
       ".xr-array-in:checked ~ .xr-array-preview {\n",
       "  display: none;\n",
       "}\n",
       "\n",
       ".xr-array-in:checked ~ .xr-array-data,\n",
       ".xr-array-preview {\n",
       "  display: inline-block;\n",
       "}\n",
       "\n",
       ".xr-dim-list {\n",
       "  display: inline-block !important;\n",
       "  list-style: none;\n",
       "  padding: 0 !important;\n",
       "  margin: 0;\n",
       "}\n",
       "\n",
       ".xr-dim-list li {\n",
       "  display: inline-block;\n",
       "  padding: 0;\n",
       "  margin: 0;\n",
       "}\n",
       "\n",
       ".xr-dim-list:before {\n",
       "  content: '(';\n",
       "}\n",
       "\n",
       ".xr-dim-list:after {\n",
       "  content: ')';\n",
       "}\n",
       "\n",
       ".xr-dim-list li:not(:last-child):after {\n",
       "  content: ',';\n",
       "  padding-right: 5px;\n",
       "}\n",
       "\n",
       ".xr-has-index {\n",
       "  font-weight: bold;\n",
       "}\n",
       "\n",
       ".xr-var-list,\n",
       ".xr-var-item {\n",
       "  display: contents;\n",
       "}\n",
       "\n",
       ".xr-var-item > div,\n",
       ".xr-var-item label,\n",
       ".xr-var-item > .xr-var-name span {\n",
       "  background-color: var(--xr-background-color-row-even);\n",
       "  margin-bottom: 0;\n",
       "}\n",
       "\n",
       ".xr-var-item > .xr-var-name:hover span {\n",
       "  padding-right: 5px;\n",
       "}\n",
       "\n",
       ".xr-var-list > li:nth-child(odd) > div,\n",
       ".xr-var-list > li:nth-child(odd) > label,\n",
       ".xr-var-list > li:nth-child(odd) > .xr-var-name span {\n",
       "  background-color: var(--xr-background-color-row-odd);\n",
       "}\n",
       "\n",
       ".xr-var-name {\n",
       "  grid-column: 1;\n",
       "}\n",
       "\n",
       ".xr-var-dims {\n",
       "  grid-column: 2;\n",
       "}\n",
       "\n",
       ".xr-var-dtype {\n",
       "  grid-column: 3;\n",
       "  text-align: right;\n",
       "  color: var(--xr-font-color2);\n",
       "}\n",
       "\n",
       ".xr-var-preview {\n",
       "  grid-column: 4;\n",
       "}\n",
       "\n",
       ".xr-var-name,\n",
       ".xr-var-dims,\n",
       ".xr-var-dtype,\n",
       ".xr-preview,\n",
       ".xr-attrs dt {\n",
       "  white-space: nowrap;\n",
       "  overflow: hidden;\n",
       "  text-overflow: ellipsis;\n",
       "  padding-right: 10px;\n",
       "}\n",
       "\n",
       ".xr-var-name:hover,\n",
       ".xr-var-dims:hover,\n",
       ".xr-var-dtype:hover,\n",
       ".xr-attrs dt:hover {\n",
       "  overflow: visible;\n",
       "  width: auto;\n",
       "  z-index: 1;\n",
       "}\n",
       "\n",
       ".xr-var-attrs,\n",
       ".xr-var-data {\n",
       "  display: none;\n",
       "  background-color: var(--xr-background-color) !important;\n",
       "  padding-bottom: 5px !important;\n",
       "}\n",
       "\n",
       ".xr-var-attrs-in:checked ~ .xr-var-attrs,\n",
       ".xr-var-data-in:checked ~ .xr-var-data {\n",
       "  display: block;\n",
       "}\n",
       "\n",
       ".xr-var-data > table {\n",
       "  float: right;\n",
       "}\n",
       "\n",
       ".xr-var-name span,\n",
       ".xr-var-data,\n",
       ".xr-attrs {\n",
       "  padding-left: 25px !important;\n",
       "}\n",
       "\n",
       ".xr-attrs,\n",
       ".xr-var-attrs,\n",
       ".xr-var-data {\n",
       "  grid-column: 1 / -1;\n",
       "}\n",
       "\n",
       "dl.xr-attrs {\n",
       "  padding: 0;\n",
       "  margin: 0;\n",
       "  display: grid;\n",
       "  grid-template-columns: 125px auto;\n",
       "}\n",
       "\n",
       ".xr-attrs dt, dd {\n",
       "  padding: 0;\n",
       "  margin: 0;\n",
       "  float: left;\n",
       "  padding-right: 10px;\n",
       "  width: auto;\n",
       "}\n",
       "\n",
       ".xr-attrs dt {\n",
       "  font-weight: normal;\n",
       "  grid-column: 1;\n",
       "}\n",
       "\n",
       ".xr-attrs dt:hover span {\n",
       "  display: inline-block;\n",
       "  background: var(--xr-background-color);\n",
       "  padding-right: 10px;\n",
       "}\n",
       "\n",
       ".xr-attrs dd {\n",
       "  grid-column: 2;\n",
       "  white-space: pre-wrap;\n",
       "  word-break: break-all;\n",
       "}\n",
       "\n",
       ".xr-icon-database,\n",
       ".xr-icon-file-text2 {\n",
       "  display: inline-block;\n",
       "  vertical-align: middle;\n",
       "  width: 1em;\n",
       "  height: 1.5em !important;\n",
       "  stroke-width: 0;\n",
       "  stroke: currentColor;\n",
       "  fill: currentColor;\n",
       "}\n",
       "</style><div class='xr-wrap'><div class='xr-header'><div class='xr-obj-type'>xarray.DataArray</div><div class='xr-array-name'></div><ul class='xr-dim-list'><li><span class='xr-has-index'>selection</span>: 1</li><li><span class='xr-has-index'>Lz</span>: 100</li><li><span class='xr-has-index'>E</span>: 140</li></ul></div><ul class='xr-sections'><li class='xr-section-item'><div class='xr-array-wrap'><input id='section-2af2a7b9-0f37-4404-a136-1ac175104ac8' class='xr-array-in' type='checkbox' ><label for='section-2af2a7b9-0f37-4404-a136-1ac175104ac8' title='Show/hide data repr'><svg class='icon xr-icon-database'><use xlink:href='#icon-database'></use></svg></label><div class='xr-array-preview xr-preview'><span>0 0 0 0 0 0 0 0 0 0 0 0 0 0 0 0 0 ... 0 0 0 0 0 0 0 0 0 0 0 0 0 0 0 0</span></div><pre class='xr-array-data'>array([[[0, 0, 0, ..., 0, 0, 0],\n",
       "        [0, 0, 0, ..., 0, 0, 0],\n",
       "        [0, 0, 0, ..., 0, 0, 0],\n",
       "        ...,\n",
       "        [0, 0, 0, ..., 0, 0, 0],\n",
       "        [0, 0, 0, ..., 0, 0, 0],\n",
       "        [0, 0, 0, ..., 0, 0, 0]]])</pre></div></li><li class='xr-section-item'><input id='section-bb65fe1d-d7ae-4fec-acd1-c02d48a4ac2a' class='xr-section-summary-in' type='checkbox'  checked><label for='section-bb65fe1d-d7ae-4fec-acd1-c02d48a4ac2a' class='xr-section-summary' >Coordinates: <span>(3)</span></label><div class='xr-section-inline-details'></div><div class='xr-section-details'><ul class='xr-var-list'><li class='xr-var-item'><div class='xr-var-name'><span class='xr-has-index'>selection</span></div><div class='xr-var-dims'>(selection)</div><div class='xr-var-dtype'>object</div><div class='xr-var-preview xr-preview'>None</div><input id='attrs-004cbf97-7e47-4e67-bfc0-817fad6da294' class='xr-var-attrs-in' type='checkbox' disabled><label for='attrs-004cbf97-7e47-4e67-bfc0-817fad6da294' title='Show/Hide attributes'><svg class='icon xr-icon-file-text2'><use xlink:href='#icon-file-text2'></use></svg></label><input id='data-f84cd414-c3fa-4674-92b1-ef76cbabb997' class='xr-var-data-in' type='checkbox'><label for='data-f84cd414-c3fa-4674-92b1-ef76cbabb997' title='Show/Hide data repr'><svg class='icon xr-icon-database'><use xlink:href='#icon-database'></use></svg></label><div class='xr-var-attrs'><dl class='xr-attrs'></dl></div><pre class='xr-var-data'>array([None], dtype=object)</pre></li><li class='xr-var-item'><div class='xr-var-name'><span class='xr-has-index'>Lz</span></div><div class='xr-var-dims'>(Lz)</div><div class='xr-var-dtype'>float64</div><div class='xr-var-preview xr-preview'>-2.877e+03 -2.83e+03 ... 1.761e+03</div><input id='attrs-b5856b30-27fd-4717-8709-764aab0f62e9' class='xr-var-attrs-in' type='checkbox' ><label for='attrs-b5856b30-27fd-4717-8709-764aab0f62e9' title='Show/Hide attributes'><svg class='icon xr-icon-file-text2'><use xlink:href='#icon-file-text2'></use></svg></label><input id='data-b160e784-2fee-4672-a01a-bd1ff29f0318' class='xr-var-data-in' type='checkbox'><label for='data-b160e784-2fee-4672-a01a-bd1ff29f0318' title='Show/Hide data repr'><svg class='icon xr-icon-database'><use xlink:href='#icon-database'></use></svg></label><div class='xr-var-attrs'><dl class='xr-attrs'><dt><span>min :</span></dt><dd>-2900.541259765625</dd><dt><span>max :</span></dt><dd>1784.0928955078125</dd></dl></div><pre class='xr-var-data'>array([-2877.118089, -2830.271747, -2783.425406, -2736.579064, -2689.732723,\n",
       "       -2642.886381, -2596.04004 , -2549.193698, -2502.347357, -2455.501015,\n",
       "       -2408.654673, -2361.808332, -2314.96199 , -2268.115649, -2221.269307,\n",
       "       -2174.422966, -2127.576624, -2080.730283, -2033.883941, -1987.037599,\n",
       "       -1940.191258, -1893.344916, -1846.498575, -1799.652233, -1752.805892,\n",
       "       -1705.95955 , -1659.113209, -1612.266867, -1565.420526, -1518.574184,\n",
       "       -1471.727842, -1424.881501, -1378.035159, -1331.188818, -1284.342476,\n",
       "       -1237.496135, -1190.649793, -1143.803452, -1096.95711 , -1050.110768,\n",
       "       -1003.264427,  -956.418085,  -909.571744,  -862.725402,  -815.879061,\n",
       "        -769.032719,  -722.186378,  -675.340036,  -628.493694,  -581.647353,\n",
       "        -534.801011,  -487.95467 ,  -441.108328,  -394.261987,  -347.415645,\n",
       "        -300.569304,  -253.722962,  -206.87662 ,  -160.030279,  -113.183937,\n",
       "         -66.337596,   -19.491254,    27.355087,    74.201429,   121.04777 ,\n",
       "         167.894112,   214.740453,   261.586795,   308.433137,   355.279478,\n",
       "         402.12582 ,   448.972161,   495.818503,   542.664844,   589.511186,\n",
       "         636.357527,   683.203869,   730.050211,   776.896552,   823.742894,\n",
       "         870.589235,   917.435577,   964.281918,  1011.12826 ,  1057.974601,\n",
       "        1104.820943,  1151.667285,  1198.513626,  1245.359968,  1292.206309,\n",
       "        1339.052651,  1385.898992,  1432.745334,  1479.591675,  1526.438017,\n",
       "        1573.284359,  1620.1307  ,  1666.977042,  1713.823383,  1760.669725])</pre></li><li class='xr-var-item'><div class='xr-var-name'><span class='xr-has-index'>E</span></div><div class='xr-var-dims'>(E)</div><div class='xr-var-dtype'>float64</div><div class='xr-var-preview xr-preview'>-2.414e+05 -2.394e+05 ... 3.495e+04</div><input id='attrs-2285ae4a-5e4f-488c-b345-7f80ce650637' class='xr-var-attrs-in' type='checkbox' ><label for='attrs-2285ae4a-5e4f-488c-b345-7f80ce650637' title='Show/Hide attributes'><svg class='icon xr-icon-file-text2'><use xlink:href='#icon-file-text2'></use></svg></label><input id='data-5655f0be-9f96-484a-ac39-76ccb427ed68' class='xr-var-data-in' type='checkbox'><label for='data-5655f0be-9f96-484a-ac39-76ccb427ed68' title='Show/Hide data repr'><svg class='icon xr-icon-database'><use xlink:href='#icon-database'></use></svg></label><div class='xr-var-attrs'><dl class='xr-attrs'><dt><span>min :</span></dt><dd>-242407.5</dd><dt><span>max :</span></dt><dd>35941.86328125</dd></dl></div><pre class='xr-var-data'>array([-241413.395131, -239425.185393, -237436.975656, -235448.765918,\n",
       "       -233460.55618 , -231472.346443, -229484.136705, -227495.926967,\n",
       "       -225507.717229, -223519.507492, -221531.297754, -219543.088016,\n",
       "       -217554.878278, -215566.668541, -213578.458803, -211590.249065,\n",
       "       -209602.039328, -207613.82959 , -205625.619852, -203637.410114,\n",
       "       -201649.200377, -199660.990639, -197672.780901, -195684.571164,\n",
       "       -193696.361426, -191708.151688, -189719.94195 , -187731.732213,\n",
       "       -185743.522475, -183755.312737, -181767.102999, -179778.893262,\n",
       "       -177790.683524, -175802.473786, -173814.264049, -171826.054311,\n",
       "       -169837.844573, -167849.634835, -165861.425098, -163873.21536 ,\n",
       "       -161885.005622, -159896.795884, -157908.586147, -155920.376409,\n",
       "       -153932.166671, -151943.956934, -149955.747196, -147967.537458,\n",
       "       -145979.32772 , -143991.117983, -142002.908245, -140014.698507,\n",
       "       -138026.48877 , -136038.279032, -134050.069294, -132061.859556,\n",
       "       -130073.649819, -128085.440081, -126097.230343, -124109.020605,\n",
       "       -122120.810868, -120132.60113 , -118144.391392, -116156.181655,\n",
       "       -114167.971917, -112179.762179, -110191.552441, -108203.342704,\n",
       "       -106215.132966, -104226.923228, -102238.713491, -100250.503753,\n",
       "        -98262.294015,  -96274.084277,  -94285.87454 ,  -92297.664802,\n",
       "        -90309.455064,  -88321.245326,  -86333.035589,  -84344.825851,\n",
       "        -82356.616113,  -80368.406376,  -78380.196638,  -76391.9869  ,\n",
       "        -74403.777162,  -72415.567425,  -70427.357687,  -68439.147949,\n",
       "        -66450.938211,  -64462.728474,  -62474.518736,  -60486.308998,\n",
       "        -58498.099261,  -56509.889523,  -54521.679785,  -52533.470047,\n",
       "        -50545.26031 ,  -48557.050572,  -46568.840834,  -44580.631097,\n",
       "        -42592.421359,  -40604.211621,  -38616.001883,  -36627.792146,\n",
       "        -34639.582408,  -32651.37267 ,  -30663.162932,  -28674.953195,\n",
       "        -26686.743457,  -24698.533719,  -22710.323982,  -20722.114244,\n",
       "        -18733.904506,  -16745.694768,  -14757.485031,  -12769.275293,\n",
       "        -10781.065555,   -8792.855818,   -6804.64608 ,   -4816.436342,\n",
       "         -2828.226604,    -840.016867,    1148.192871,    3136.402609,\n",
       "          5124.612347,    7112.822084,    9101.031822,   11089.24156 ,\n",
       "         13077.451297,   15065.661035,   17053.870773,   19042.080511,\n",
       "         21030.290248,   23018.499986,   25006.709724,   26994.919461,\n",
       "         28983.129199,   30971.338937,   32959.548675,   34947.758412])</pre></li></ul></div></li><li class='xr-section-item'><input id='section-d96d2be3-dcf3-4c70-8edf-8b514a3cf9c7' class='xr-section-summary-in' type='checkbox' disabled ><label for='section-d96d2be3-dcf3-4c70-8edf-8b514a3cf9c7' class='xr-section-summary'  title='Expand/collapse section'>Attributes: <span>(0)</span></label><div class='xr-section-inline-details'></div><div class='xr-section-details'><dl class='xr-attrs'></dl></div></li></ul></div></div>"
      ],
      "text/plain": [
       "<xarray.DataArray (selection: 1, Lz: 100, E: 140)>\n",
       "array([[[0, 0, 0, ..., 0, 0, 0],\n",
       "        [0, 0, 0, ..., 0, 0, 0],\n",
       "        [0, 0, 0, ..., 0, 0, 0],\n",
       "        ...,\n",
       "        [0, 0, 0, ..., 0, 0, 0],\n",
       "        [0, 0, 0, ..., 0, 0, 0],\n",
       "        [0, 0, 0, ..., 0, 0, 0]]])\n",
       "Coordinates:\n",
       "  * selection  (selection) object None\n",
       "  * Lz         (Lz) float64 -2.877e+03 -2.83e+03 ... 1.714e+03 1.761e+03\n",
       "  * E          (E) float64 -2.414e+05 -2.394e+05 ... 3.296e+04 3.495e+04"
      ]
     },
     "metadata": {},
     "output_type": "display_data"
    }
   ],
   "source": [
    "# NOTE: since the computations are done in the background, da_view.model.grid is initially None.\n",
    "# We can force vaex-jupyter to wait till all executions are done using:\n",
    "print(vaex.jupyter.utils._debounced_futures)\n",
    "await vaex.jupyter.gather()\n",
    "print(vaex.jupyter.utils._debounced_futures)\n",
    "# get a reference to the xarray DataArray object\n",
    "da = da_view.model.grid\n",
    "print(f\"type:\", type(da))\n",
    "print(\"dims:\", da.dims)\n",
    "print(\"data:\", da.data)\n",
    "print(\"coords:\", da.coords)\n",
    "print(\"Lz's data:\", da.coords['Lz'].data)\n",
    "print(\"Lz's attrs:\", da.coords['Lz'].attrs)\n",
    "print(\"And displaying the xarray DataArray:\")\n",
    "display(da)  # this is what the vaex.jupyter.view.DataArray uses"
   ]
  },
  {
   "cell_type": "markdown",
   "metadata": {},
   "source": [
    "Note that `da.coords['Lz'].data` is the same as `Lz_axis.centers` and `da.coords['Lz'].attrs` contains the same `min/max` as the `Lz_axis`."
   ]
  },
  {
   "cell_type": "markdown",
   "metadata": {},
   "source": [
    "Also, we see that displaying the xarray.DataArray object (da_view.model.grid) gives us the same output as the `da_view` above. There is a big difference however. If we change/add a selection,"
   ]
  },
  {
   "cell_type": "code",
   "execution_count": 6,
   "metadata": {
    "ExecuteTime": {
     "end_time": "2020-05-06T12:31:22.087543Z",
     "start_time": "2020-05-06T12:31:22.082189Z"
    }
   },
   "outputs": [],
   "source": [
    "df.select(df.x > 0)"
   ]
  },
  {
   "cell_type": "markdown",
   "metadata": {},
   "source": [
    "we see the widget (`da_view`) updates itself (it contains two selections!). This is a very powerful feature, that allows us to make interactive visualizations.\n",
    "\n",
    "## Interactive plots\n",
    "\n",
    "\n",
    "If we pass a custom display_function, we can override the default behaviour (a call to `display(..)`), to make a matplotlib figure instead:"
   ]
  },
  {
   "cell_type": "code",
   "execution_count": 7,
   "metadata": {
    "ExecuteTime": {
     "end_time": "2020-05-06T12:31:22.164204Z",
     "start_time": "2020-05-06T12:31:22.098626Z"
    }
   },
   "outputs": [
    {
     "data": {
      "application/vnd.jupyter.widget-view+json": {
       "model_id": "08dbf5a22b9148538e1e4340310093ea",
       "version_major": 2,
       "version_minor": 0
      },
      "text/plain": [
       "DataArray(children=[Container(children=[ProgressCircularNoAnimation(color='#9ECBF5', size=30, text='', value=1…"
      ]
     },
     "metadata": {},
     "output_type": "display_data"
    }
   ],
   "source": [
    "# NOTE: da is short for 'data array'\n",
    "def plot2d(da):\n",
    "    plt.figure(figsize=(8, 8))\n",
    "    ar = da.data[1]  # take the numpy data, and select take the selection\n",
    "    print(f'imshow of a numpy array of shape: {ar.shape}')\n",
    "    plt.imshow(np.log1p(ar.T), origin='lower')\n",
    "df.widget.data_array(axes=[Lz_axis, E_axis], display_function=plot2d)"
   ]
  },
  {
   "cell_type": "markdown",
   "metadata": {},
   "source": [
    "We choose index 1 along the selection axis (the default selection). If we now change the selection, the figure will update itself:"
   ]
  },
  {
   "cell_type": "code",
   "execution_count": 8,
   "metadata": {
    "ExecuteTime": {
     "end_time": "2020-05-06T12:31:22.175258Z",
     "start_time": "2020-05-06T12:31:22.169622Z"
    }
   },
   "outputs": [],
   "source": [
    "df.select(df.id < 10)"
   ]
  },
  {
   "cell_type": "markdown",
   "metadata": {},
   "source": [
    "As xarray's DataArray is fully self describing, we can improve the plot, such as use the dimension names for labeling, and set the extent of the figure's axes.\n",
    "\n",
    "Note that we don't need any information from the Axis objects created above, and in fact, we should not use them, since they may not be in sync with the xarray DataArray object. Later on, we will create a widget that will edit the Axis' expression. If we change the expression of the Axis object (e.g. `Lz_axis.expression = np.abs(df.Lz)`, it can take a while before the computation finishes, so be sure to only use the information in the xarray DataArray object.\n",
    "\n",
    "Our improved visualization with proper axes and labeling:"
   ]
  },
  {
   "cell_type": "code",
   "execution_count": 9,
   "metadata": {
    "ExecuteTime": {
     "end_time": "2020-05-06T12:31:22.268800Z",
     "start_time": "2020-05-06T12:31:22.177942Z"
    }
   },
   "outputs": [
    {
     "data": {
      "application/vnd.jupyter.widget-view+json": {
       "model_id": "044f19c7dfee426fb53d65a85f2d4744",
       "version_major": 2,
       "version_minor": 0
      },
      "text/plain": [
       "DataArray(children=[Container(children=[ProgressCircularNoAnimation(color='#9ECBF5', size=30, text='', value=1…"
      ]
     },
     "metadata": {},
     "output_type": "display_data"
    }
   ],
   "source": [
    "def plot2d_with_labels(da):\n",
    "    plt.figure(figsize=(8, 8))\n",
    "    grid = da.data[1]  # take the numpy data, and select the first selection (no selection)\n",
    "    dim_x = da.dims[1]\n",
    "    dim_y = da.dims[2]\n",
    "    plt.title(f'{dim_y} vs {dim_x} - shape: {grid.shape}')\n",
    "    extent = [\n",
    "        da.coords[dim_x].attrs['min'], da.coords[dim_x].attrs['max'],\n",
    "        da.coords[dim_y].attrs['min'], da.coords[dim_y].attrs['max']\n",
    "    ]\n",
    "    plt.imshow(np.log1p(grid.T), origin='lower', extent=extent, aspect='auto')\n",
    "    plt.xlabel(da.dims[1])\n",
    "    plt.ylabel(da.dims[2])\n",
    "da_plot_view_nicer = df.widget.data_array(axes=[Lz_axis, E_axis], display_function=plot2d_with_labels)\n",
    "da_plot_view_nicer"
   ]
  },
  {
   "cell_type": "markdown",
   "metadata": {},
   "source": [
    "We can also start doing more sophisticated plots, where we show all of the selection"
   ]
  },
  {
   "cell_type": "code",
   "execution_count": 10,
   "metadata": {
    "ExecuteTime": {
     "end_time": "2020-05-06T12:31:22.371622Z",
     "start_time": "2020-05-06T12:31:22.296981Z"
    }
   },
   "outputs": [
    {
     "data": {
      "application/vnd.jupyter.widget-view+json": {
       "model_id": "20a0d20ccd6940c5b0a9f9a26027d1c0",
       "version_major": 2,
       "version_minor": 0
      },
      "text/plain": [
       "DataArray(children=[Container(children=[ProgressCircularNoAnimation(color='#9ECBF5', size=30, text='', value=1…"
      ]
     },
     "metadata": {},
     "output_type": "display_data"
    }
   ],
   "source": [
    "def plot2d_with_selections(da):\n",
    "    grid = da.data\n",
    "    # Create 1 row and #selections of columns of mpl axes\n",
    "    fig, axgrid = plt.subplots(1, grid.shape[0], sharey=True, squeeze=False)\n",
    "    for selection_index, ax in enumerate(axgrid[0]):\n",
    "        ax.imshow(np.log1p(grid[selection_index].T), origin='lower')\n",
    "df.widget.data_array(axes=[Lz_axis, E_axis], display_function=plot2d_with_selections,\n",
    "                     selections=[None, 'default', 'rest'])"
   ]
  },
  {
   "cell_type": "code",
   "execution_count": 11,
   "metadata": {
    "ExecuteTime": {
     "end_time": "2020-05-06T12:31:22.378827Z",
     "start_time": "2020-05-06T12:31:22.374114Z"
    }
   },
   "outputs": [],
   "source": [
    "df.select(df.id < 10)  # select 10 objects\n",
    "df.select(df.id >= 10, name='rest')  # and the rest"
   ]
  },
  {
   "cell_type": "markdown",
   "metadata": {},
   "source": [
    "But now we also have to do all the labeling, and maybe we also want to slice the data even more, and this gets tiring. Instead, xarray has excellent plotting capabilities, and it will do much of this for us.\n",
    "\n",
    "We introduce another axis, FeH, (FeH - or metallicity, a property of stars that tells us how much heavy elements are contained in them and an indicator of its origin):"
   ]
  },
  {
   "cell_type": "code",
   "execution_count": 12,
   "metadata": {
    "ExecuteTime": {
     "end_time": "2020-05-06T12:31:22.451682Z",
     "start_time": "2020-05-06T12:31:22.381552Z"
    }
   },
   "outputs": [
    {
     "data": {
      "application/vnd.jupyter.widget-view+json": {
       "model_id": "e05be41ace8745888385a110f0491717",
       "version_major": 2,
       "version_minor": 0
      },
      "text/plain": [
       "DataArray(children=[Container(children=[ProgressCircularNoAnimation(color='#9ECBF5', size=30, text='', value=1…"
      ]
     },
     "metadata": {},
     "output_type": "display_data"
    }
   ],
   "source": [
    "FeH_axis = vjm.Axis(df=df, expression='FeH', min=-3, max=1, shape=5)\n",
    "da_view = df.widget.data_array(axes=[E_axis, Lz_axis, FeH_axis])\n",
    "da_view"
   ]
  },
  {
   "cell_type": "markdown",
   "metadata": {},
   "source": [
    "We can see we now have a 4 dimensional grid, which we'd like to visualize.\n",
    "\n",
    "And [xarray's plot](http://xarray.pydata.org/en/stable/plotting.html#two-dimensions) make our life much easier:"
   ]
  },
  {
   "cell_type": "code",
   "execution_count": 13,
   "metadata": {
    "ExecuteTime": {
     "end_time": "2020-05-06T12:31:22.605860Z",
     "start_time": "2020-05-06T12:31:22.454909Z"
    },
    "scrolled": false
   },
   "outputs": [
    {
     "data": {
      "application/vnd.jupyter.widget-view+json": {
       "model_id": "8cdc3ddd2c1d4daa85c6358f52e71d27",
       "version_major": 2,
       "version_minor": 0
      },
      "text/plain": [
       "DataArray(children=[Container(children=[ProgressCircularNoAnimation(color='#9ECBF5', size=30, text='', value=1…"
      ]
     },
     "metadata": {},
     "output_type": "display_data"
    }
   ],
   "source": [
    "def plot_with_xarray(da):\n",
    "    da_log = np.log1p(da)  # Note that an xarray DataArray is like a numpy array\n",
    "    da_log.plot(x='Lz', y='E', col='FeH', row='selection', cmap='viridis')\n",
    "plot_view = df.widget.data_array([E_axis, Lz_axis, FeH_axis], display_function=plot_with_xarray,\n",
    "                                 selections=[None, 'default', 'rest'])\n",
    "plot_view"
   ]
  },
  {
   "cell_type": "markdown",
   "metadata": {},
   "source": [
    "We only have to tell xarray which axis it should map to which 'aesthetic', speaking in Grammar of Graphics terms."
   ]
  },
  {
   "cell_type": "markdown",
   "metadata": {},
   "source": [
    "## Selection widgets\n",
    "Although we can change the selection in the notebook (e.g. `df.select(df.id > 20)`), if we create a dashboard ([using Voila](https://voila.readthedocs.io/en/stable/)) we cannot execute arbitrary code. Vaex-jupyter also comes with many widget, and one of them is a selection expression widget:"
   ]
  },
  {
   "cell_type": "code",
   "execution_count": 14,
   "metadata": {
    "ExecuteTime": {
     "end_time": "2020-05-06T12:31:22.661858Z",
     "start_time": "2020-05-06T12:31:22.636137Z"
    }
   },
   "outputs": [
    {
     "data": {
      "application/vnd.jupyter.widget-view+json": {
       "model_id": "bd4bc4fefb4044dcb47a665fd6b5cd31",
       "version_major": 2,
       "version_minor": 0
      },
      "text/plain": [
       "ExpressionSelectionTextArea(label='Filter by custom expression', placeholder='Enter a custom (boolean) express…"
      ]
     },
     "metadata": {},
     "output_type": "display_data"
    }
   ],
   "source": [
    "selection_widget = df.widget.selection_expression()\n",
    "selection_widget"
   ]
  },
  {
   "cell_type": "markdown",
   "metadata": {},
   "source": [
    "The counter_selection creates a widget which keeps track of the number of rows in a selection, in this case we ask it to be 'lazy', which means that it will not cause extra passes over the data, it will ride along if some user action triggers a calculation."
   ]
  },
  {
   "cell_type": "code",
   "execution_count": 15,
   "metadata": {
    "ExecuteTime": {
     "end_time": "2020-05-06T12:31:27.543068Z",
     "start_time": "2020-05-06T12:31:22.667729Z"
    }
   },
   "outputs": [
    {
     "name": "stderr",
     "output_type": "stream",
     "text": [
      "ERROR:MainThread:asyncio:Exception in callback <TaskStepMethWrapper object at 0x128097668>()\n",
      "handle: <Handle <TaskStepMethWrapper object at 0x128097668>()>\n",
      "Traceback (most recent call last):\n",
      "  File \"/Users/maartenbreddels/miniconda3/envs/dev/lib/python3.7/site-packages/nest_asyncio.py\", line 149, in run\n",
      "    ctx.run(self._callback, *self._args)\n",
      "RuntimeError: Cannot enter into task <Task pending coro=<_debounced_callable.__call__.<locals>.debounced_execute.<locals>.run_async() running at /Users/maartenbreddels/src/vaex/packages/vaex-core/vaex/jupyter/utils.py:149>> while another task <Task pending coro=<InteractiveShell.run_cell_async() running at /Users/maartenbreddels/miniconda3/envs/dev/lib/python3.7/site-packages/IPython/core/interactiveshell.py:3020> cb=[IPythonKernel._cancel_on_sigint.<locals>.cancel_unless_done(<Future pendi...ernel.py:230]>)() at /Users/maartenbreddels/miniconda3/envs/dev/lib/python3.7/site-packages/ipykernel/ipkernel.py:230, IOLoop.add_future.<locals>.<lambda>() at /Users/maartenbreddels/miniconda3/envs/dev/lib/python3.7/site-packages/tornado/ioloop.py:690]> is being executed.\n",
      "ERROR:MainThread:asyncio:Task was destroyed but it is pending!\n",
      "task: <Task pending coro=<_debounced_callable.__call__.<locals>.debounced_execute.<locals>.run_async() running at /Users/maartenbreddels/src/vaex/packages/vaex-core/vaex/jupyter/utils.py:149>>\n",
      "/Users/maartenbreddels/miniconda3/envs/dev/lib/python3.7/asyncio/base_futures.py:66: RuntimeWarning: coroutine '_debounced_callable.__call__.<locals>.debounced_execute.<locals>.run_async' was never awaited\n",
      "  if future._callbacks:\n",
      "ERROR:MainThread:asyncio:Exception in callback <TaskStepMethWrapper object at 0x128097550>()\n",
      "handle: <Handle <TaskStepMethWrapper object at 0x128097550>()>\n",
      "Traceback (most recent call last):\n",
      "  File \"/Users/maartenbreddels/miniconda3/envs/dev/lib/python3.7/site-packages/nest_asyncio.py\", line 149, in run\n",
      "    ctx.run(self._callback, *self._args)\n",
      "RuntimeError: Cannot enter into task <Task pending coro=<_debounced_callable.__call__.<locals>.debounced_execute.<locals>.run_async() running at /Users/maartenbreddels/src/vaex/packages/vaex-core/vaex/jupyter/utils.py:149>> while another task <Task pending coro=<InteractiveShell.run_cell_async() running at /Users/maartenbreddels/miniconda3/envs/dev/lib/python3.7/site-packages/IPython/core/interactiveshell.py:3020> cb=[IPythonKernel._cancel_on_sigint.<locals>.cancel_unless_done(<Future pendi...ernel.py:230]>)() at /Users/maartenbreddels/miniconda3/envs/dev/lib/python3.7/site-packages/ipykernel/ipkernel.py:230, IOLoop.add_future.<locals>.<lambda>() at /Users/maartenbreddels/miniconda3/envs/dev/lib/python3.7/site-packages/tornado/ioloop.py:690]> is being executed.\n",
      "ERROR:MainThread:asyncio:Task was destroyed but it is pending!\n",
      "task: <Task pending coro=<_debounced_callable.__call__.<locals>.debounced_execute.<locals>.run_async() running at /Users/maartenbreddels/src/vaex/packages/vaex-core/vaex/jupyter/utils.py:149>>\n",
      "/Users/maartenbreddels/miniconda3/envs/dev/lib/python3.7/reprlib.py:52: RuntimeWarning: coroutine '_debounced_callable.__call__.<locals>.debounced_execute.<locals>.run_async' was never awaited\n",
      "  return self.repr1(x, self.maxlevel)\n",
      "ERROR:MainThread:asyncio:Exception in callback <TaskStepMethWrapper object at 0x1280975c0>()\n",
      "handle: <Handle <TaskStepMethWrapper object at 0x1280975c0>()>\n",
      "Traceback (most recent call last):\n",
      "  File \"/Users/maartenbreddels/miniconda3/envs/dev/lib/python3.7/site-packages/nest_asyncio.py\", line 149, in run\n",
      "    ctx.run(self._callback, *self._args)\n",
      "RuntimeError: Cannot enter into task <Task pending coro=<_debounced_callable.__call__.<locals>.debounced_execute.<locals>.run_async() running at /Users/maartenbreddels/src/vaex/packages/vaex-core/vaex/jupyter/utils.py:149>> while another task <Task pending coro=<InteractiveShell.run_cell_async() running at /Users/maartenbreddels/miniconda3/envs/dev/lib/python3.7/site-packages/IPython/core/interactiveshell.py:3020> cb=[IPythonKernel._cancel_on_sigint.<locals>.cancel_unless_done(<Future pendi...ernel.py:230]>)() at /Users/maartenbreddels/miniconda3/envs/dev/lib/python3.7/site-packages/ipykernel/ipkernel.py:230, IOLoop.add_future.<locals>.<lambda>() at /Users/maartenbreddels/miniconda3/envs/dev/lib/python3.7/site-packages/tornado/ioloop.py:690]> is being executed.\n",
      "ERROR:MainThread:asyncio:Task was destroyed but it is pending!\n",
      "task: <Task pending coro=<_debounced_callable.__call__.<locals>.debounced_execute.<locals>.run_async() running at /Users/maartenbreddels/src/vaex/packages/vaex-core/vaex/jupyter/utils.py:149>>\n",
      "ERROR:MainThread:asyncio:Exception in callback <TaskStepMethWrapper object at 0x12e97e6d8>()\n",
      "handle: <Handle <TaskStepMethWrapper object at 0x12e97e6d8>()>\n",
      "Traceback (most recent call last):\n",
      "  File \"/Users/maartenbreddels/miniconda3/envs/dev/lib/python3.7/site-packages/nest_asyncio.py\", line 149, in run\n",
      "    ctx.run(self._callback, *self._args)\n",
      "RuntimeError: Cannot enter into task <Task pending coro=<_debounced_callable.__call__.<locals>.debounced_execute.<locals>.run_async() running at /Users/maartenbreddels/src/vaex/packages/vaex-core/vaex/jupyter/utils.py:149>> while another task <Task pending coro=<InteractiveShell.run_cell_async() running at /Users/maartenbreddels/miniconda3/envs/dev/lib/python3.7/site-packages/IPython/core/interactiveshell.py:3020> cb=[IPythonKernel._cancel_on_sigint.<locals>.cancel_unless_done(<Future pendi...ernel.py:230]>)() at /Users/maartenbreddels/miniconda3/envs/dev/lib/python3.7/site-packages/ipykernel/ipkernel.py:230, IOLoop.add_future.<locals>.<lambda>() at /Users/maartenbreddels/miniconda3/envs/dev/lib/python3.7/site-packages/tornado/ioloop.py:690]> is being executed.\n",
      "ERROR:MainThread:asyncio:Task was destroyed but it is pending!\n",
      "task: <Task pending coro=<_debounced_callable.__call__.<locals>.debounced_execute.<locals>.run_async() running at /Users/maartenbreddels/src/vaex/packages/vaex-core/vaex/jupyter/utils.py:149>>\n",
      "/Users/maartenbreddels/miniconda3/envs/dev/lib/python3.7/asyncio/base_futures.py:41: RuntimeWarning: coroutine '_debounced_callable.__call__.<locals>.debounced_execute.<locals>.run_async' was never awaited\n",
      "  return format_helpers._format_callback_source(callback, ())\n",
      "ERROR:MainThread:asyncio:Exception in callback <TaskStepMethWrapper object at 0x12e98d908>()\n",
      "handle: <Handle <TaskStepMethWrapper object at 0x12e98d908>()>\n",
      "Traceback (most recent call last):\n",
      "  File \"/Users/maartenbreddels/miniconda3/envs/dev/lib/python3.7/site-packages/nest_asyncio.py\", line 149, in run\n",
      "    ctx.run(self._callback, *self._args)\n",
      "RuntimeError: Cannot enter into task <Task pending coro=<_debounced_callable.__call__.<locals>.debounced_execute.<locals>.run_async() running at /Users/maartenbreddels/src/vaex/packages/vaex-core/vaex/jupyter/utils.py:149>> while another task <Task pending coro=<InteractiveShell.run_cell_async() running at /Users/maartenbreddels/miniconda3/envs/dev/lib/python3.7/site-packages/IPython/core/interactiveshell.py:3020> cb=[IPythonKernel._cancel_on_sigint.<locals>.cancel_unless_done(<Future pendi...ernel.py:230]>)() at /Users/maartenbreddels/miniconda3/envs/dev/lib/python3.7/site-packages/ipykernel/ipkernel.py:230, IOLoop.add_future.<locals>.<lambda>() at /Users/maartenbreddels/miniconda3/envs/dev/lib/python3.7/site-packages/tornado/ioloop.py:690]> is being executed.\n",
      "ERROR:MainThread:asyncio:Task was destroyed but it is pending!\n",
      "task: <Task pending coro=<_debounced_callable.__call__.<locals>.debounced_execute.<locals>.run_async() running at /Users/maartenbreddels/src/vaex/packages/vaex-core/vaex/jupyter/utils.py:149>>\n",
      "/Users/maartenbreddels/miniconda3/envs/dev/lib/python3.7/asyncio/format_helpers.py:38: RuntimeWarning: coroutine '_debounced_callable.__call__.<locals>.debounced_execute.<locals>.run_async' was never awaited\n",
      "  items.extend(reprlib.repr(arg) for arg in args)\n",
      "ERROR:MainThread:asyncio:Exception in callback <TaskStepMethWrapper object at 0x12e98da90>()\n",
      "handle: <Handle <TaskStepMethWrapper object at 0x12e98da90>()>\n",
      "Traceback (most recent call last):\n",
      "  File \"/Users/maartenbreddels/miniconda3/envs/dev/lib/python3.7/site-packages/nest_asyncio.py\", line 149, in run\n",
      "    ctx.run(self._callback, *self._args)\n",
      "RuntimeError: Cannot enter into task <Task pending coro=<_debounced_callable.__call__.<locals>.debounced_execute.<locals>.run_async() running at /Users/maartenbreddels/src/vaex/packages/vaex-core/vaex/jupyter/utils.py:149>> while another task <Task pending coro=<InteractiveShell.run_cell_async() running at /Users/maartenbreddels/miniconda3/envs/dev/lib/python3.7/site-packages/IPython/core/interactiveshell.py:3020> cb=[IPythonKernel._cancel_on_sigint.<locals>.cancel_unless_done(<Future pendi...ernel.py:230]>)() at /Users/maartenbreddels/miniconda3/envs/dev/lib/python3.7/site-packages/ipykernel/ipkernel.py:230, IOLoop.add_future.<locals>.<lambda>() at /Users/maartenbreddels/miniconda3/envs/dev/lib/python3.7/site-packages/tornado/ioloop.py:690]> is being executed.\n"
     ]
    },
    {
     "name": "stderr",
     "output_type": "stream",
     "text": [
      "ERROR:MainThread:asyncio:Task was destroyed but it is pending!\n",
      "task: <Task pending coro=<_debounced_callable.__call__.<locals>.debounced_execute.<locals>.run_async() running at /Users/maartenbreddels/src/vaex/packages/vaex-core/vaex/jupyter/utils.py:149>>\n",
      "ERROR:MainThread:asyncio:Exception in callback <TaskStepMethWrapper object at 0x12e98d6a0>()\n",
      "handle: <Handle <TaskStepMethWrapper object at 0x12e98d6a0>()>\n",
      "Traceback (most recent call last):\n",
      "  File \"/Users/maartenbreddels/miniconda3/envs/dev/lib/python3.7/site-packages/nest_asyncio.py\", line 149, in run\n",
      "    ctx.run(self._callback, *self._args)\n",
      "RuntimeError: Cannot enter into task <Task pending coro=<_debounced_callable.__call__.<locals>.debounced_execute.<locals>.run_async() running at /Users/maartenbreddels/src/vaex/packages/vaex-core/vaex/jupyter/utils.py:149>> while another task <Task pending coro=<InteractiveShell.run_cell_async() running at /Users/maartenbreddels/miniconda3/envs/dev/lib/python3.7/site-packages/IPython/core/interactiveshell.py:3020> cb=[IPythonKernel._cancel_on_sigint.<locals>.cancel_unless_done(<Future pendi...ernel.py:230]>)() at /Users/maartenbreddels/miniconda3/envs/dev/lib/python3.7/site-packages/ipykernel/ipkernel.py:230, IOLoop.add_future.<locals>.<lambda>() at /Users/maartenbreddels/miniconda3/envs/dev/lib/python3.7/site-packages/tornado/ioloop.py:690]> is being executed.\n",
      "ERROR:MainThread:asyncio:Task was destroyed but it is pending!\n",
      "task: <Task pending coro=<_debounced_callable.__call__.<locals>.debounced_execute.<locals>.run_async() running at /Users/maartenbreddels/src/vaex/packages/vaex-core/vaex/jupyter/utils.py:149>>\n",
      "/Users/maartenbreddels/miniconda3/envs/dev/lib/python3.7/reprlib.py:139: RuntimeWarning: coroutine '_debounced_callable.__call__.<locals>.debounced_execute.<locals>.run_async' was never awaited\n",
      "  s = builtins.repr(x)\n",
      "ERROR:MainThread:asyncio:Exception in callback <TaskStepMethWrapper object at 0x12e98d7b8>()\n",
      "handle: <Handle <TaskStepMethWrapper object at 0x12e98d7b8>()>\n",
      "Traceback (most recent call last):\n",
      "  File \"/Users/maartenbreddels/miniconda3/envs/dev/lib/python3.7/site-packages/nest_asyncio.py\", line 149, in run\n",
      "    ctx.run(self._callback, *self._args)\n",
      "RuntimeError: Cannot enter into task <Task pending coro=<_debounced_callable.__call__.<locals>.debounced_execute.<locals>.run_async() running at /Users/maartenbreddels/src/vaex/packages/vaex-core/vaex/jupyter/utils.py:149>> while another task <Task pending coro=<InteractiveShell.run_cell_async() running at /Users/maartenbreddels/miniconda3/envs/dev/lib/python3.7/site-packages/IPython/core/interactiveshell.py:3020> cb=[IPythonKernel._cancel_on_sigint.<locals>.cancel_unless_done(<Future pendi...ernel.py:230]>)() at /Users/maartenbreddels/miniconda3/envs/dev/lib/python3.7/site-packages/ipykernel/ipkernel.py:230, IOLoop.add_future.<locals>.<lambda>() at /Users/maartenbreddels/miniconda3/envs/dev/lib/python3.7/site-packages/tornado/ioloop.py:690]> is being executed.\n"
     ]
    },
    {
     "data": {
      "application/vnd.jupyter.widget-view+json": {
       "model_id": "4dac91e1c81d4e37b91e181762010cc6",
       "version_major": 2,
       "version_minor": 0
      },
      "text/plain": [
       "Counter(characters=['&nbsp;', '&nbsp;', '&nbsp;', '&nbsp;', '&nbsp;', '&nbsp;', '&nbsp;', '&nbsp;', '9', '9', …"
      ]
     },
     "metadata": {},
     "output_type": "display_data"
    }
   ],
   "source": [
    "await vaex.jupyter.gather()\n",
    "w = df.widget.counter_selection('default', lazy=True)\n",
    "w"
   ]
  },
  {
   "cell_type": "markdown",
   "metadata": {},
   "source": [
    "## Axis control widgets\n",
    "We create new axis object, with the same expressions, but give them more general names (x_axis and y_axis), because we want to change the expressions of the axes."
   ]
  },
  {
   "cell_type": "code",
   "execution_count": 16,
   "metadata": {
    "ExecuteTime": {
     "end_time": "2020-05-06T12:31:27.611875Z",
     "start_time": "2020-05-06T12:31:27.545189Z"
    },
    "scrolled": false
   },
   "outputs": [
    {
     "data": {
      "application/vnd.jupyter.widget-view+json": {
       "model_id": "329254800a5d4aa0b497a239e8e08f32",
       "version_major": 2,
       "version_minor": 0
      },
      "text/plain": [
       "DataArray(children=[Container(children=[ProgressCircularNoAnimation(color='#9ECBF5', size=30, text='', value=1…"
      ]
     },
     "metadata": {},
     "output_type": "display_data"
    }
   ],
   "source": [
    "x_axis = vjm.Axis(df=df, expression=df.Lz)\n",
    "y_axis = vjm.Axis(df=df, expression=df.E)\n",
    "da_xy_view = df.widget.data_array(axes=[x_axis, y_axis], display_function=plot2d_with_labels, shape=180)\n",
    "da_xy_view"
   ]
  },
  {
   "cell_type": "markdown",
   "metadata": {},
   "source": [
    "Again, we can change the expressions of the axes programmatically:"
   ]
  },
  {
   "cell_type": "code",
   "execution_count": 17,
   "metadata": {
    "ExecuteTime": {
     "end_time": "2020-05-06T12:31:32.484346Z",
     "start_time": "2020-05-06T12:31:27.614566Z"
    }
   },
   "outputs": [
    {
     "name": "stderr",
     "output_type": "stream",
     "text": [
      "ERROR:MainThread:asyncio:Task was destroyed but it is pending!\n",
      "task: <Task pending coro=<_debounced_callable.__call__.<locals>.debounced_execute.<locals>.run_async() running at /Users/maartenbreddels/src/vaex/packages/vaex-core/vaex/jupyter/utils.py:149>>\n",
      "/Users/maartenbreddels/src/vaex/packages/vaex-core/vaex/utils.py:525: RuntimeWarning: coroutine '_debounced_callable.__call__.<locals>.debounced_execute.<locals>.run_async' was never awaited\n",
      "  return False, [[x] for x in args]\n"
     ]
    }
   ],
   "source": [
    "# wait for the previous plot to finish\n",
    "await vaex.jupyter.gather()\n",
    "# Change both the x and y axis\n",
    "x_axis.expression = np.log(df.x**2)\n",
    "y_axis.expression = df.y\n",
    "# Note that both assignment will create 1 computation in the background (minimal amount of passes over the data)\n",
    "await vaex.jupyter.gather()\n",
    "# vaex computed the new min/max, and the xarray DataArray\n",
    "# x_axis.min, x_axis.max, da_xy_view.model.grid"
   ]
  },
  {
   "cell_type": "markdown",
   "metadata": {},
   "source": [
    "But, if we want to create a dashboard with voila, we need to have a widget to control these:"
   ]
  },
  {
   "cell_type": "code",
   "execution_count": 18,
   "metadata": {
    "ExecuteTime": {
     "end_time": "2020-05-06T12:31:32.499080Z",
     "start_time": "2020-05-06T12:31:32.485741Z"
    }
   },
   "outputs": [
    {
     "data": {
      "application/vnd.jupyter.widget-view+json": {
       "model_id": "b2dd4f414b954822ad0bdf89840d88b3",
       "version_major": 2,
       "version_minor": 0
      },
      "text/plain": [
       "Expression(label='X axis', placeholder='Enter a custom expression', prepend_icon='functions', success_messages…"
      ]
     },
     "metadata": {},
     "output_type": "display_data"
    }
   ],
   "source": [
    "x_widget = df.widget.expression(x_axis.expression, label='X axis')\n",
    "x_widget"
   ]
  },
  {
   "cell_type": "markdown",
   "metadata": {},
   "source": [
    "This widget will allow us to edit an expression, which will be validated by vaex, but how do we 'link' the value of the widget to the axis expression? Because both the Axis object, as well as the x_widget object are [HasTrait objects](https://traitlets.readthedocs.io/en/stable/using_traitlets.html) we can link them together: "
   ]
  },
  {
   "cell_type": "code",
   "execution_count": 19,
   "metadata": {
    "ExecuteTime": {
     "end_time": "2020-05-06T12:31:32.510202Z",
     "start_time": "2020-05-06T12:31:32.501830Z"
    }
   },
   "outputs": [
    {
     "data": {
      "text/plain": [
       "<traitlets.traitlets.link at 0x12f00acc0>"
      ]
     },
     "execution_count": 19,
     "metadata": {},
     "output_type": "execute_result"
    }
   ],
   "source": [
    "from ipywidgets import link\n",
    "link((x_widget, 'value'), (x_axis, 'expression'))"
   ]
  },
  {
   "cell_type": "markdown",
   "metadata": {},
   "source": [
    "Since this operation is so common, we can also directly pass the axis object instead, and vaex will set up the linking for us:"
   ]
  },
  {
   "cell_type": "code",
   "execution_count": 20,
   "metadata": {
    "ExecuteTime": {
     "end_time": "2020-05-06T12:31:32.543919Z",
     "start_time": "2020-05-06T12:31:32.512664Z"
    }
   },
   "outputs": [
    {
     "data": {
      "application/vnd.jupyter.widget-view+json": {
       "model_id": "01e2a8180aa6479d9913f5c7f2b76ad2",
       "version_major": 2,
       "version_minor": 0
      },
      "text/plain": [
       "Expression(label='X axis', placeholder='Enter a custom expression', prepend_icon='functions', success_messages…"
      ]
     },
     "metadata": {},
     "output_type": "display_data"
    }
   ],
   "source": [
    "y_widget = df.widget.expression(y_axis, label='X axis')\n",
    "# vaex now does this for us, much shorter\n",
    "# link((y_widget, 'value'), (y_axis, 'expression'))\n",
    "y_widget"
   ]
  },
  {
   "cell_type": "code",
   "execution_count": 21,
   "metadata": {
    "ExecuteTime": {
     "end_time": "2020-05-06T12:31:32.565466Z",
     "start_time": "2020-05-06T12:31:32.555644Z"
    }
   },
   "outputs": [],
   "source": [
    "await vaex.jupyter.gather()"
   ]
  },
  {
   "cell_type": "markdown",
   "metadata": {},
   "source": [
    "## A nice container\n",
    "\n",
    "If you are comfortable with https://github.com/mariobuikhuizen/ipyvuetify/ you can try putting these widgets together in a nice way. Vaex-jupyter comes with a container:"
   ]
  },
  {
   "cell_type": "code",
   "execution_count": 22,
   "metadata": {
    "ExecuteTime": {
     "end_time": "2020-05-06T12:31:32.592679Z",
     "start_time": "2020-05-06T12:31:32.568427Z"
    }
   },
   "outputs": [
    {
     "data": {
      "application/vnd.jupyter.widget-view+json": {
       "model_id": "42565b09904d4837a49ffb67a1e07dfb",
       "version_major": 2,
       "version_minor": 0
      },
      "text/plain": [
       "ContainerCard(controls=[Expression(label='X axis', placeholder='Enter a custom expression', prepend_icon='func…"
      ]
     },
     "metadata": {},
     "output_type": "display_data"
    }
   ],
   "source": [
    "from vaex.jupyter.widgets import ContainerCard\n",
    "ContainerCard(title='My plot',\n",
    "              subtitle=\"using vaex-jupyter\",\n",
    "              main=da_xy_view,\n",
    "              controls=[x_widget, y_widget], show_controls=True)"
   ]
  },
  {
   "cell_type": "markdown",
   "metadata": {},
   "source": [
    "We can directly assign vaex expression to the `x_axis.expression` (or `x_widget.value`, since they are linked)"
   ]
  },
  {
   "cell_type": "code",
   "execution_count": 23,
   "metadata": {
    "ExecuteTime": {
     "end_time": "2020-05-06T12:31:32.601668Z",
     "start_time": "2020-05-06T12:31:32.595899Z"
    }
   },
   "outputs": [],
   "source": [
    "x_axis.expression = np.log(df.x**2)"
   ]
  },
  {
   "cell_type": "markdown",
   "metadata": {},
   "source": [
    "## Interactive plots\n",
    "Until now, we have been using interactive widgets to control the axes of the view, however, the figure itself is not interactive, we cannot zoom or select.\n",
    "\n",
    "Vaex has support for a few builtin visualization (most notably a heatmap and histogram, using bqplot):"
   ]
  },
  {
   "cell_type": "code",
   "execution_count": 24,
   "metadata": {
    "ExecuteTime": {
     "end_time": "2020-05-06T12:31:32.909379Z",
     "start_time": "2020-05-06T12:31:32.604993Z"
    }
   },
   "outputs": [
    {
     "data": {
      "application/vnd.jupyter.widget-view+json": {
       "model_id": "25b3d32729d149ebb97d8d909145b6b9",
       "version_major": 2,
       "version_minor": 0
      },
      "text/plain": [
       "Heatmap(children=[ToolsToolbar(interact_value=None, supports_normalize=False, template='<template>\\n  <v-toolb…"
      ]
     },
     "metadata": {},
     "output_type": "display_data"
    }
   ],
   "source": [
    "heatmap_xy = df.widget.heatmap(df.x, df.y)\n",
    "heatmap_xy"
   ]
  },
  {
   "cell_type": "code",
   "execution_count": 25,
   "metadata": {
    "ExecuteTime": {
     "end_time": "2020-05-06T12:31:32.938545Z",
     "start_time": "2020-05-06T12:31:32.911959Z"
    }
   },
   "outputs": [],
   "source": [
    "x_widget = df.widget.expression(heatmap_xy.model.x, label='X axis')\n",
    "y_widget = df.widget.expression(heatmap_xy.model.y, label='X axis')"
   ]
  },
  {
   "cell_type": "code",
   "execution_count": 26,
   "metadata": {
    "ExecuteTime": {
     "end_time": "2020-05-06T12:31:32.971709Z",
     "start_time": "2020-05-06T12:31:32.942405Z"
    },
    "scrolled": false
   },
   "outputs": [
    {
     "data": {
      "application/vnd.jupyter.widget-view+json": {
       "model_id": "f75b4251763b4c03bd7821bea626f581",
       "version_major": 2,
       "version_minor": 0
      },
      "text/plain": [
       "ContainerCard(card_props={'style': 'min-width: 800px;'}, controls=[Expression(label='X axis', placeholder='Ent…"
      ]
     },
     "metadata": {},
     "output_type": "display_data"
    }
   ],
   "source": [
    "ContainerCard(title='My plot',\n",
    "              subtitle=\"using vaex-jupyter and bqplot\",\n",
    "              main=heatmap_xy,\n",
    "              controls=[x_widget, y_widget, selection_widget],\n",
    "              show_controls=True,\n",
    "              card_props={'style': 'min-width: 800px;'})"
   ]
  },
  {
   "cell_type": "markdown",
   "metadata": {},
   "source": [
    "By switching the tool in the toolbar (click <i aria-hidden=\"true\" class=\"v-icon notranslate material-icons theme--light\">pan_tool</i>, or change it programmmatically in the next cell), we can zoom in. The plot's axis bounds are directly synched to the \n",
    "\n"
   ]
  },
  {
   "cell_type": "markdown",
   "metadata": {},
   "source": [
    "By switching the tool in the toolbar (click the hand icon, or change it programmmatically in the next cell), we can zoom in. The plot's axis bounds are directly synched to the \n",
    "\n"
   ]
  },
  {
   "cell_type": "code",
   "execution_count": 27,
   "metadata": {
    "ExecuteTime": {
     "end_time": "2020-05-06T12:31:32.984554Z",
     "start_time": "2020-05-06T12:31:32.979235Z"
    }
   },
   "outputs": [],
   "source": [
    "heatmap_xy.tool = 'pan-zoom'"
   ]
  },
  {
   "cell_type": "code",
   "execution_count": 28,
   "metadata": {
    "ExecuteTime": {
     "end_time": "2020-05-06T12:31:33.704894Z",
     "start_time": "2020-05-06T12:31:32.987542Z"
    }
   },
   "outputs": [],
   "source": [
    "await vaex.jupyter.gather()\n",
    "heatmap_xy.model.x.expression = np.log10(df.x**2)"
   ]
  },
  {
   "cell_type": "markdown",
   "metadata": {},
   "source": [
    "And a (1d) histogram:"
   ]
  },
  {
   "cell_type": "code",
   "execution_count": 29,
   "metadata": {
    "ExecuteTime": {
     "end_time": "2020-05-06T12:31:34.708882Z",
     "start_time": "2020-05-06T12:31:33.707834Z"
    }
   },
   "outputs": [],
   "source": [
    "await vaex.jupyter.gather()"
   ]
  },
  {
   "cell_type": "code",
   "execution_count": 30,
   "metadata": {
    "ExecuteTime": {
     "end_time": "2020-05-06T12:31:34.837532Z",
     "start_time": "2020-05-06T12:31:34.711987Z"
    }
   },
   "outputs": [
    {
     "data": {
      "application/vnd.jupyter.widget-view+json": {
       "model_id": "4b5d58987f874dfa95723f1a40f40d14",
       "version_major": 2,
       "version_minor": 0
      },
      "text/plain": [
       "Histogram(children=[ToolsToolbar(interact_value=None, supports_transforms=False, template='<template>\\n  <v-to…"
      ]
     },
     "metadata": {},
     "output_type": "display_data"
    }
   ],
   "source": [
    "histogram_Lz = df.widget.histogram(df.Lz)\n",
    "histogram_Lz"
   ]
  },
  {
   "cell_type": "markdown",
   "metadata": {},
   "source": [
    "## Creating your own visualizations\n",
    "\n",
    "If you want to create your own visualization on this framework, go to the [Examples](examples.html) page, or go directly to:\n",
    "\n",
    "\n",
    "### ipyvolume example\n",
    "\n",
    "[![](screenshot/example_jupyter_ipyvolume.png)](example_jupyter_ipyvolume.html)\n",
    "\n",
    "### plotly example\n",
    "\n",
    "[![](screenshot/example_jupyter_plotly.png)](example_jupyter_plotly.html)"
   ]
  },
  {
   "cell_type": "code",
   "execution_count": null,
   "metadata": {},
   "outputs": [],
   "source": []
  }
 ],
 "metadata": {
  "kernelspec": {
   "display_name": "Python 3",
   "language": "python",
   "name": "python3"
  },
  "language_info": {
   "codemirror_mode": {
    "name": "ipython",
    "version": 3
   },
   "file_extension": ".py",
   "mimetype": "text/x-python",
   "name": "python",
   "nbconvert_exporter": "python",
   "pygments_lexer": "ipython3",
   "version": "3.7.3"
  }
 },
 "nbformat": 4,
 "nbformat_minor": 2
}
